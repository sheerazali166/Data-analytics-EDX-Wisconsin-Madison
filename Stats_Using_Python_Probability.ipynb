{
  "nbformat": 4,
  "nbformat_minor": 0,
  "metadata": {
    "colab": {
      "provenance": []
    },
    "kernelspec": {
      "name": "python3",
      "display_name": "Python 3"
    },
    "language_info": {
      "name": "python"
    }
  },
  "cells": [
    {
      "cell_type": "markdown",
      "source": [
        "# Probability using Python\n",
        "\n",
        "**Probability quantifies the likelihood of an event -- like tossing a coin and landing on heads.**  In this notebook, we use Python to assist in probability calculations."
      ],
      "metadata": {
        "id": "HpR0GmPc22a_"
      }
    },
    {
      "cell_type": "code",
      "source": [
        "# Import SciPy to assist with our probability calculations.\n",
        "from scipy import stats"
      ],
      "metadata": {
        "id": "5cLFqFlx2225"
      },
      "execution_count": 1,
      "outputs": []
    },
    {
      "cell_type": "markdown",
      "source": [
        "### Binomial Distribution (Discrete)\n",
        "\n",
        "**The probability of a specific # of “successes” in a specific # of independent trials.**  For example, the likelihood of 10 wins (\"successes\") in 15 basketball games."
      ],
      "metadata": {
        "id": "bO15blIC3Won"
      }
    },
    {
      "cell_type": "code",
      "source": [
        "# EXAMPLE: The # of returns (\"successes\") when shipping 250 orders.\n",
        "# Create a binomial random variable (X).\n",
        "# We have 250 trials with a 3% chance of return for each order.\n",
        "X = stats.binom(250, 0.03)"
      ],
      "metadata": {
        "id": "iHb0dNrS3S6X"
      },
      "execution_count": 2,
      "outputs": []
    },
    {
      "cell_type": "code",
      "source": [
        "# The likelihood of 15 returns in 250 orders.\n",
        "# PMF stands for probability mass function.\n",
        "X.pmf(15)"
      ],
      "metadata": {
        "colab": {
          "base_uri": "https://localhost:8080/"
        },
        "id": "EhsvTIek3wq0",
        "outputId": "cbb424dd-25a4-46ce-f5ae-470d9a9c7d5a"
      },
      "execution_count": 3,
      "outputs": [
        {
          "output_type": "execute_result",
          "data": {
            "text/plain": [
              "0.005184906161357239"
            ]
          },
          "metadata": {},
          "execution_count": 3
        }
      ]
    },
    {
      "cell_type": "code",
      "source": [
        "# The likelihood of 15 or fewer returns in 250 orders.\n",
        "# CDF stands for cumulative density function.\n",
        "X.cdf(15)"
      ],
      "metadata": {
        "colab": {
          "base_uri": "https://localhost:8080/"
        },
        "id": "NSkes5x43_Gk",
        "outputId": "4f437214-1d09-4169-a082-47adc57b34ba"
      },
      "execution_count": 4,
      "outputs": [
        {
          "output_type": "execute_result",
          "data": {
            "text/plain": [
              "0.9960081412458559"
            ]
          },
          "metadata": {},
          "execution_count": 4
        }
      ]
    },
    {
      "cell_type": "code",
      "source": [
        "# The likelihood of more than 15 returns in 250 orders.\n",
        "1 - X.cdf(15)"
      ],
      "metadata": {
        "colab": {
          "base_uri": "https://localhost:8080/"
        },
        "id": "5S6pbxy04NCY",
        "outputId": "9f529e93-71aa-4410-c83e-fdfefb8f8274"
      },
      "execution_count": 5,
      "outputs": [
        {
          "output_type": "execute_result",
          "data": {
            "text/plain": [
              "0.003991858754144095"
            ]
          },
          "metadata": {},
          "execution_count": 5
        }
      ]
    },
    {
      "cell_type": "code",
      "source": [
        "# The likelihood of between 10 and 15 returns in 250 orders.\n",
        "# Note the use of 9 instead of 10 in the second calculation.\n",
        "X.cdf(15) - X.cdf(9)"
      ],
      "metadata": {
        "colab": {
          "base_uri": "https://localhost:8080/"
        },
        "id": "3g7HTRIH4NFe",
        "outputId": "b63a1209-eb2c-4536-f93e-d4573c32f59e"
      },
      "execution_count": 6,
      "outputs": [
        {
          "output_type": "execute_result",
          "data": {
            "text/plain": [
              "0.2169603188955156"
            ]
          },
          "metadata": {},
          "execution_count": 6
        }
      ]
    },
    {
      "cell_type": "markdown",
      "source": [
        "### Poisson Distribution (Discrete)\n",
        "\n",
        "**The probability that an event will occur a specific number of times over a given period.**  For example, the likelihood of 50 service calls in the next hour."
      ],
      "metadata": {
        "id": "vKxHk9R-5Vqo"
      }
    },
    {
      "cell_type": "code",
      "source": [
        "# EXAMPLE: The likelihood of 50 service calls in the next hour.\n",
        "# Create a Poisson random variable (Y).\n",
        "# The average is 40 calls per hour.\n",
        "Y = stats.poisson(40)"
      ],
      "metadata": {
        "id": "sOA029Ef4NIV"
      },
      "execution_count": 7,
      "outputs": []
    },
    {
      "cell_type": "code",
      "source": [
        "# The probability of exactly 50 calls in the next hour.\n",
        "Y.pmf(50)"
      ],
      "metadata": {
        "colab": {
          "base_uri": "https://localhost:8080/"
        },
        "id": "sVv5WVvH4NLM",
        "outputId": "af8987d2-a787-4460-eda8-086abf2f79c6"
      },
      "execution_count": 8,
      "outputs": [
        {
          "output_type": "execute_result",
          "data": {
            "text/plain": [
              "0.01770701755263633"
            ]
          },
          "metadata": {},
          "execution_count": 8
        }
      ]
    },
    {
      "cell_type": "code",
      "source": [
        "# The probability of 50 or fewer calls in the next hour.\n",
        "Y.cdf(50)"
      ],
      "metadata": {
        "colab": {
          "base_uri": "https://localhost:8080/"
        },
        "id": "vxCw4pYQ4NNz",
        "outputId": "f5c49eba-c985-4361-96a4-0a3225cabc7c"
      },
      "execution_count": 9,
      "outputs": [
        {
          "output_type": "execute_result",
          "data": {
            "text/plain": [
              "0.9473719508932413"
            ]
          },
          "metadata": {},
          "execution_count": 9
        }
      ]
    },
    {
      "cell_type": "code",
      "source": [
        "# The probability of more than 50 calls in the next hour.\n",
        "1 - Y.cdf(50)"
      ],
      "metadata": {
        "colab": {
          "base_uri": "https://localhost:8080/"
        },
        "id": "WQwkWR3N4NQr",
        "outputId": "c21a4ed3-5ca5-4a54-8f42-9ac9d071a211"
      },
      "execution_count": 10,
      "outputs": [
        {
          "output_type": "execute_result",
          "data": {
            "text/plain": [
              "0.05262804910675867"
            ]
          },
          "metadata": {},
          "execution_count": 10
        }
      ]
    },
    {
      "cell_type": "markdown",
      "source": [
        "### Normal Distribution (Continuous)\n",
        "\n",
        "**The most common probability distribution for continuous data.**  It appears as a \"bell curve”.  Lots of things in our world approximate a normal distribution: heights of people, sizes of manufactured parts, returns in the stock market, etc."
      ],
      "metadata": {
        "id": "jp_sdOqM7dQr"
      }
    },
    {
      "cell_type": "code",
      "source": [
        "# EXAMPLE: The likelihood that a part will be a certain width.\n",
        "\n",
        "# Create a normal random variable (A).\n",
        "# The mean is 8.  The standard deviation is 0.2.\n",
        "A = stats.norm(8, 0.2)"
      ],
      "metadata": {
        "id": "vV8g60nK6eEZ"
      },
      "execution_count": 11,
      "outputs": []
    },
    {
      "cell_type": "code",
      "source": [
        "# The probability of a part measuring 8.5 or less.\n",
        "A.cdf(8.5)"
      ],
      "metadata": {
        "colab": {
          "base_uri": "https://localhost:8080/"
        },
        "id": "FF-ChWiR6eHP",
        "outputId": "b3e62f39-c392-4256-db68-155ea863cc57"
      },
      "execution_count": 12,
      "outputs": [
        {
          "output_type": "execute_result",
          "data": {
            "text/plain": [
              "0.9937903346742238"
            ]
          },
          "metadata": {},
          "execution_count": 12
        }
      ]
    },
    {
      "cell_type": "code",
      "source": [
        "# The probability of a part measuring more than 8.5.\n",
        "1 - A.cdf(8.5)"
      ],
      "metadata": {
        "colab": {
          "base_uri": "https://localhost:8080/"
        },
        "id": "VZlHsxyl6eKX",
        "outputId": "4ed588a6-e042-4826-c876-7e486893a6af"
      },
      "execution_count": 13,
      "outputs": [
        {
          "output_type": "execute_result",
          "data": {
            "text/plain": [
              "0.006209665325776159"
            ]
          },
          "metadata": {},
          "execution_count": 13
        }
      ]
    },
    {
      "cell_type": "code",
      "source": [
        "# The probability of a part measuring between 7.9 and 8.1.\n",
        "A.cdf(8.1) - A.cdf(7.9)"
      ],
      "metadata": {
        "colab": {
          "base_uri": "https://localhost:8080/"
        },
        "id": "d_LEFSHG6eM9",
        "outputId": "740d859c-2f0e-402c-f605-0430b80d82a9"
      },
      "execution_count": 14,
      "outputs": [
        {
          "output_type": "execute_result",
          "data": {
            "text/plain": [
              "0.3829249225480249"
            ]
          },
          "metadata": {},
          "execution_count": 14
        }
      ]
    },
    {
      "cell_type": "code",
      "source": [],
      "metadata": {
        "id": "4cC9UYfe6eYe"
      },
      "execution_count": null,
      "outputs": []
    }
  ]
}